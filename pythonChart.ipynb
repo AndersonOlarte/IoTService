{
 "cells": [
  {
   "cell_type": "code",
   "execution_count": 12,
   "metadata": {},
   "outputs": [],
   "source": [
    "%matplotlib qt5\n",
    "#importando la libreria\n",
    "import numpy as np\n",
    "#creo mi funcion base (es la que conozco, es mi modelo conocido)\n",
    "def func(x, y):\n",
    " return x*(1-x)*np.cos(4*np.pi*x) * np.sin(4*np.pi*y**2)**2\n",
    "#creo una malla de 100 x 200\n",
    "grid_x, grid_y = np.mgrid[0:1:100j, 0:1:200j]\n",
    "#me invento un grupo de puntos aleatorios\n",
    "points = np.random.rand(100, 2)\n",
    "#de estos puntos que serian los sensores, y sus lecturas, voy a interpolar en\n",
    "#la malla los valores que deseo calcular para mi modelo de deduccion real\n",
    "values = func(points[:,0], points[:,1])\n",
    "# ejecuto las interpolaciones, uso tres metodos para comparar su desempeno\n",
    "from scipy.interpolate import griddata\n",
    "grid_z0 = griddata(points, values, (grid_x, grid_y), method='nearest')\n",
    "grid_z1 = griddata(points, values, (grid_x, grid_y), method='linear')\n",
    "grid_z2 = griddata(points, values, (grid_x, grid_y), method='cubic')\n",
    "#grafico los resultados de los tres ejemplos de inteprolacion\n",
    "import matplotlib.pyplot as plt\n",
    "plt.subplot(221)\n",
    "plt.imshow(func(grid_x, grid_y).T, extent=(0,1,0,1), origin='lower')\n",
    "plt.plot(points[:,0], points[:,1], 'k.', ms=1)\n",
    "plt.title('Original')\n",
    "plt.subplot(222)\n",
    "plt.imshow(grid_z0.T, extent=(0,1,0,1), origin='lower')\n",
    "plt.title('Nearest')\n",
    "plt.subplot(223)\n",
    "plt.imshow(grid_z1.T, extent=(0,1,0,1), origin='lower')\n",
    "plt.title('Linear')\n",
    "plt.subplot(224)\n",
    "plt.imshow(grid_z2.T, extent=(0,1,0,1), origin='lower')\n",
    "plt.title('Cubic')\n",
    "plt.gcf().set_size_inches(6, 6)\n",
    "plt.show()\n"
   ]
  },
  {
   "cell_type": "code",
   "execution_count": 13,
   "metadata": {},
   "outputs": [
    {
     "name": "stdout",
     "output_type": "stream",
     "text": [
      "Estación #38 - Itagüí - I.E. Concejo Municipal de Itagüí\n",
      "-75.6443558\n",
      "6.1684971\n",
      "16.0\n",
      "2021-09-28 09:53:00\n"
     ]
    }
   ],
   "source": [
    "import pandas as pd\n",
    "url = \"http://siata.gov.co:8089/estacionesAirePM25/cf7bb09b4d7d859a2840e22c3f3a9a8039917cc3/\"\n",
    "capturaWeb = pd.read_json(url, convert_dates=True)\n",
    "print(capturaWeb['datos'][1]['nombre'])\n",
    "print(capturaWeb['datos'][1]['coordenadas'][0]['longitud'])\n",
    "print(capturaWeb['datos'][1]['coordenadas'][0]['latitud'])\n",
    "print(capturaWeb['datos'][1]['valorICA'])\n",
    "print(capturaWeb['datos'][1]['ultimaActualizacion'])"
   ]
  },
  {
   "cell_type": "code",
   "execution_count": 14,
   "metadata": {},
   "outputs": [],
   "source": [
    "lat = []\n",
    "lon = []\n",
    "nom = []\n",
    "fechas = []\n",
    "cont = []\n",
    "\n",
    "for i in range(18):\n",
    "    nom.append(capturaWeb['datos'][i]['nombre'])\n",
    "    lat.append(capturaWeb['datos'][i]['coordenadas'][0]['longitud'])\n",
    "    lon.append(capturaWeb['datos'][i]['coordenadas'][0]['latitud'])\n",
    "    cont.append(capturaWeb['datos'][i]['valorICA'])\n",
    "    fechas.append(capturaWeb['datos'][i]['ultimaActualizacion'])\n"
   ]
  },
  {
   "cell_type": "code",
   "execution_count": 15,
   "metadata": {},
   "outputs": [
    {
     "name": "stdout",
     "output_type": "stream",
     "text": [
      "la contaminación en monterrey es:  20.0\n"
     ]
    }
   ],
   "source": [
    "latitud = 6.21409\n",
    "longitud = -75.476511\n",
    "\n",
    "ICA = griddata((lat, lon), cont, (latitud, longitud), method='nearest')\n",
    "print('la contaminación en monterrey es: ', ICA)"
   ]
  },
  {
   "cell_type": "code",
   "execution_count": 1,
   "metadata": {},
   "outputs": [
    {
     "name": "stdout",
     "output_type": "stream",
     "text": [
      "Estación #38 - Itagüí - I.E. Concejo Municipal de Itagüí\n",
      "-75.6443558\n",
      "6.1684971\n",
      "23.0\n",
      "2021-09-30 10:18:00\n",
      "la contaminación en monterrey es:  18.0\n"
     ]
    }
   ],
   "source": [
    "%matplotlib qt5\n",
    "#importando la libreria\n",
    "import numpy as np\n",
    "#creo mi funcion base (es la que conozco, es mi modelo conocido)\n",
    "def func(x, y):\n",
    " return x*(1-x)*np.cos(4*np.pi*x) * np.sin(4*np.pi*y**2)**2\n",
    "#creo una malla de 100 x 200\n",
    "grid_x, grid_y = np.mgrid[0:1:100j, 0:1:200j]\n",
    "#me invento un grupo de puntos aleatorios\n",
    "points = np.random.rand(100, 2)\n",
    "#de estos puntos que serian los sensores, y sus lecturas, voy a interpolar en\n",
    "#la malla los valores que deseo calcular para mi modelo de deduccion real\n",
    "values = func(points[:,0], points[:,1])\n",
    "# ejecuto las interpolaciones, uso tres metodos para comparar su desempeno\n",
    "from scipy.interpolate import griddata\n",
    "grid_z0 = griddata(points, values, (grid_x, grid_y), method='nearest')\n",
    "grid_z1 = griddata(points, values, (grid_x, grid_y), method='linear')\n",
    "grid_z2 = griddata(points, values, (grid_x, grid_y), method='cubic')\n",
    "#grafico los resultados de los tres ejemplos de inteprolacion\n",
    "import matplotlib.pyplot as plt\n",
    "plt.subplot(221)\n",
    "plt.imshow(func(grid_x, grid_y).T, extent=(0,1,0,1), origin='lower')\n",
    "plt.plot(points[:,0], points[:,1], 'k.', ms=1)\n",
    "plt.title('Original')\n",
    "plt.subplot(222)\n",
    "plt.imshow(grid_z0.T, extent=(0,1,0,1), origin='lower')\n",
    "plt.title('Nearest')\n",
    "plt.subplot(223)\n",
    "plt.imshow(grid_z1.T, extent=(0,1,0,1), origin='lower')\n",
    "plt.title('Linear')\n",
    "plt.subplot(224)\n",
    "plt.imshow(grid_z2.T, extent=(0,1,0,1), origin='lower')\n",
    "plt.title('Cubic')\n",
    "plt.gcf().set_size_inches(6, 6)\n",
    "plt.show()\n",
    "import pandas as pd\n",
    "url = \"http://siata.gov.co:8089/estacionesAirePM25/cf7bb09b4d7d859a2840e22c3f3a9a8039917cc3/\"\n",
    "capturaWeb = pd.read_json(url, convert_dates=True)\n",
    "print(capturaWeb['datos'][1]['nombre'])\n",
    "print(capturaWeb['datos'][1]['coordenadas'][0]['longitud'])\n",
    "print(capturaWeb['datos'][1]['coordenadas'][0]['latitud'])\n",
    "print(capturaWeb['datos'][1]['valorICA'])\n",
    "print(capturaWeb['datos'][1]['ultimaActualizacion'])\n",
    "lat = []\n",
    "lon = []\n",
    "nom = []\n",
    "fechas = []\n",
    "cont = []\n",
    "\n",
    "for i in range(18):\n",
    "    nom.append(capturaWeb['datos'][i]['nombre'])\n",
    "    lat.append(capturaWeb['datos'][i]['coordenadas'][0]['longitud'])\n",
    "    lon.append(capturaWeb['datos'][i]['coordenadas'][0]['latitud'])\n",
    "    cont.append(capturaWeb['datos'][i]['valorICA'])\n",
    "    fechas.append(capturaWeb['datos'][i]['ultimaActualizacion'])\n",
    "latitud = 6.21409\n",
    "longitud = -75.476511\n",
    "\n",
    "ICA = griddata((lat, lon), cont, (latitud, longitud), method='nearest')\n",
    "print('la contaminación en monterrey es: ', ICA)"
   ]
  }
 ],
 "metadata": {
  "interpreter": {
   "hash": "91e7e5c645c0e155421bcc2af13209c3da76279b83ddd10ad14a4c30f4cea1f9"
  },
  "kernelspec": {
   "display_name": "Python 3.8.8 64-bit ('base': conda)",
   "name": "python3"
  },
  "language_info": {
   "codemirror_mode": {
    "name": "ipython",
    "version": 3
   },
   "file_extension": ".py",
   "mimetype": "text/x-python",
   "name": "python",
   "nbconvert_exporter": "python",
   "pygments_lexer": "ipython3",
   "version": "3.8.8"
  },
  "orig_nbformat": 4
 },
 "nbformat": 4,
 "nbformat_minor": 2
}
